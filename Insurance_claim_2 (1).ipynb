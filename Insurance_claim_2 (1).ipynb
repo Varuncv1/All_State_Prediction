{
 "cells": [
  {
   "cell_type": "code",
   "execution_count": 1,
   "id": "cb8ea104",
   "metadata": {},
   "outputs": [],
   "source": [
    "import pandas as pd\n",
    "import numpy as np\n",
    "import pickle"
   ]
  },
  {
   "cell_type": "code",
   "execution_count": 2,
   "id": "8b2fd7be",
   "metadata": {},
   "outputs": [],
   "source": [
    "test_data = pd.read_csv('test_data_subset.csv')"
   ]
  },
  {
   "cell_type": "code",
   "execution_count": 3,
   "id": "b889c940",
   "metadata": {},
   "outputs": [],
   "source": [
    "columns_to_drop = pd.read_csv('columns_to_drop.csv')\n",
    "columns_to_retain = set(test_data.columns.values) - set(columns_to_drop.colnames.values)\n",
    "test_data = test_data[columns_to_retain]\n",
    "\n",
    "column_datatypes = test_data.dtypes\n",
    "categorical_columns = list(column_datatypes[column_datatypes == 'object'].index.values)"
   ]
  },
  {
   "cell_type": "code",
   "execution_count": 4,
   "id": "f3aa63c0",
   "metadata": {},
   "outputs": [],
   "source": [
    "for cf1 in categorical_columns:\n",
    "    filename = cf1 + \" .sav\"\n",
    "    le = pickle.load(open(filename,'rb'))\n",
    "    \n",
    "    le_dict = dict(zip(le.classes_ , le.transform(le.classes_)))\n",
    "    test_data[cf1] = test_data[cf1].apply(lambda x: le_dict.get(x,-1))"
   ]
  },
  {
   "cell_type": "code",
   "execution_count": 5,
   "id": "4280caaf",
   "metadata": {},
   "outputs": [],
   "source": [
    "test_data_id = test_data['id']\n",
    "test_data = test_data.drop('id',axis=1)"
   ]
  },
  {
   "cell_type": "code",
   "execution_count": 7,
   "id": "bae4cd73",
   "metadata": {},
   "outputs": [],
   "source": [
    "Column_datatypes = test_data.dtypes\n",
    "Integer_columns = list(Column_datatypes.where(lambda x:x == 'int64').dropna().index.values)\n",
    "test_data[Integer_columns] = test_data[Integer_columns].astype('category',copy=False)"
   ]
  },
  {
   "cell_type": "code",
   "execution_count": 8,
   "id": "3dfc5519",
   "metadata": {},
   "outputs": [],
   "source": [
    "tunedmodel_rf = pickle.load(open('tunedmodel_rf','rb'))"
   ]
  },
  {
   "cell_type": "code",
   "execution_count": 9,
   "id": "9f426375",
   "metadata": {},
   "outputs": [],
   "source": [
    "y_test_predict = tunedmodel_rf.predict(test_data)\n",
    "test_data['id'] = test_data_id\n",
    "test_data['predicted_loss'] = y_test_predict\n",
    "test_data = test_data[['id' , 'predicted_loss']]"
   ]
  },
  {
   "cell_type": "code",
   "execution_count": 10,
   "id": "cc855729",
   "metadata": {},
   "outputs": [
    {
     "data": {
      "text/html": [
       "<div>\n",
       "<style scoped>\n",
       "    .dataframe tbody tr th:only-of-type {\n",
       "        vertical-align: middle;\n",
       "    }\n",
       "\n",
       "    .dataframe tbody tr th {\n",
       "        vertical-align: top;\n",
       "    }\n",
       "\n",
       "    .dataframe thead th {\n",
       "        text-align: right;\n",
       "    }\n",
       "</style>\n",
       "<table border=\"1\" class=\"dataframe\">\n",
       "  <thead>\n",
       "    <tr style=\"text-align: right;\">\n",
       "      <th></th>\n",
       "      <th>id</th>\n",
       "      <th>predicted_loss</th>\n",
       "    </tr>\n",
       "  </thead>\n",
       "  <tbody>\n",
       "    <tr>\n",
       "      <th>0</th>\n",
       "      <td>4</td>\n",
       "      <td>8.331350</td>\n",
       "    </tr>\n",
       "    <tr>\n",
       "      <th>1</th>\n",
       "      <td>6</td>\n",
       "      <td>8.282283</td>\n",
       "    </tr>\n",
       "    <tr>\n",
       "      <th>2</th>\n",
       "      <td>9</td>\n",
       "      <td>8.048638</td>\n",
       "    </tr>\n",
       "    <tr>\n",
       "      <th>3</th>\n",
       "      <td>12</td>\n",
       "      <td>8.379387</td>\n",
       "    </tr>\n",
       "    <tr>\n",
       "      <th>4</th>\n",
       "      <td>15</td>\n",
       "      <td>8.336919</td>\n",
       "    </tr>\n",
       "  </tbody>\n",
       "</table>\n",
       "</div>"
      ],
      "text/plain": [
       "   id  predicted_loss\n",
       "0   4        8.331350\n",
       "1   6        8.282283\n",
       "2   9        8.048638\n",
       "3  12        8.379387\n",
       "4  15        8.336919"
      ]
     },
     "execution_count": 10,
     "metadata": {},
     "output_type": "execute_result"
    }
   ],
   "source": [
    "test_data"
   ]
  },
  {
   "cell_type": "code",
   "execution_count": 11,
   "id": "bfcef676",
   "metadata": {},
   "outputs": [
    {
     "data": {
      "text/plain": [
       "RandomizedSearchCV(cv=3, estimator=RandomForestRegressor(), n_iter=5, n_jobs=-1,\n",
       "                   param_distributions={'bootstrap': [True, False],\n",
       "                                        'max_depth': [10, 20, 30, 40, 50, 60,\n",
       "                                                      70, 80, 90, 100, 110],\n",
       "                                        'max_features': ['auto', 'sqrt'],\n",
       "                                        'min_samples_leaf': [1, 2, 4],\n",
       "                                        'min_samples_split': [200, 400, 600],\n",
       "                                        'n_estimators': [100, 200, 300, 400,\n",
       "                                                         500]},\n",
       "                   random_state=42, verbose=2)"
      ]
     },
     "execution_count": 11,
     "metadata": {},
     "output_type": "execute_result"
    }
   ],
   "source": [
    "tunedmodel_rf"
   ]
  },
  {
   "cell_type": "code",
   "execution_count": null,
   "id": "7620c23c",
   "metadata": {},
   "outputs": [],
   "source": []
  }
 ],
 "metadata": {
  "kernelspec": {
   "display_name": "Python 3 (ipykernel)",
   "language": "python",
   "name": "python3"
  },
  "language_info": {
   "codemirror_mode": {
    "name": "ipython",
    "version": 3
   },
   "file_extension": ".py",
   "mimetype": "text/x-python",
   "name": "python",
   "nbconvert_exporter": "python",
   "pygments_lexer": "ipython3",
   "version": "3.9.7"
  }
 },
 "nbformat": 4,
 "nbformat_minor": 5
}
